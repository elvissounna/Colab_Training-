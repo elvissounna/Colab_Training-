{
  "nbformat": 4,
  "nbformat_minor": 0,
  "metadata": {
    "colab": {
      "name": "Deep Learning Project 1",
      "provenance": [],
      "authorship_tag": "ABX9TyNtCXqMQ72LDILIsds+yzvr",
      "include_colab_link": true
    },
    "kernelspec": {
      "name": "python3",
      "display_name": "Python 3"
    },
    "language_info": {
      "name": "python"
    }
  },
  "cells": [
    {
      "cell_type": "markdown",
      "metadata": {
        "id": "view-in-github",
        "colab_type": "text"
      },
      "source": [
        "<a href=\"https://colab.research.google.com/github/elvissounna/Colab_Training-/blob/main/Deep_Learning_Project_1.ipynb\" target=\"_parent\"><img src=\"https://colab.research.google.com/assets/colab-badge.svg\" alt=\"Open In Colab\"/></a>"
      ]
    },
    {
      "cell_type": "code",
      "metadata": {
        "id": "aPSKquIGsojd"
      },
      "source": [
        "\n",
        "import matplotlib.pyplot as plt \n",
        "%matplotlib inline"
      ],
      "execution_count": null,
      "outputs": []
    },
    {
      "cell_type": "code",
      "metadata": {
        "id": "GYg6czqhssNb"
      },
      "source": [
        "df= pd.read_csv(\"https://raw.githubusercontent.com/patrickbrus/Birds_Classifier_API/master/data/Bird_Species_cleaned.csv\")"
      ],
      "execution_count": null,
      "outputs": []
    },
    {
      "cell_type": "code",
      "metadata": {
        "id": "4tNpviBjs77E",
        "colab": {
          "base_uri": "https://localhost:8080/",
          "height": 203
        },
        "outputId": "8d29771d-4c5a-4d15-f0a2-2d5709aeb84f"
      },
      "source": [
        "df.head()"
      ],
      "execution_count": null,
      "outputs": [
        {
          "output_type": "execute_result",
          "data": {
            "text/html": [
              "<div>\n",
              "<style scoped>\n",
              "    .dataframe tbody tr th:only-of-type {\n",
              "        vertical-align: middle;\n",
              "    }\n",
              "\n",
              "    .dataframe tbody tr th {\n",
              "        vertical-align: top;\n",
              "    }\n",
              "\n",
              "    .dataframe thead th {\n",
              "        text-align: right;\n",
              "    }\n",
              "</style>\n",
              "<table border=\"1\" class=\"dataframe\">\n",
              "  <thead>\n",
              "    <tr style=\"text-align: right;\">\n",
              "      <th></th>\n",
              "      <th>filepaths</th>\n",
              "      <th>labels</th>\n",
              "      <th>data set</th>\n",
              "    </tr>\n",
              "  </thead>\n",
              "  <tbody>\n",
              "    <tr>\n",
              "      <th>0</th>\n",
              "      <td>train\\AFRICAN CROWNED CRANE\\001.jpg</td>\n",
              "      <td>AFRICAN CROWNED CRANE</td>\n",
              "      <td>train</td>\n",
              "    </tr>\n",
              "    <tr>\n",
              "      <th>1</th>\n",
              "      <td>train\\AFRICAN CROWNED CRANE\\002.jpg</td>\n",
              "      <td>AFRICAN CROWNED CRANE</td>\n",
              "      <td>train</td>\n",
              "    </tr>\n",
              "    <tr>\n",
              "      <th>2</th>\n",
              "      <td>train\\AFRICAN CROWNED CRANE\\003.jpg</td>\n",
              "      <td>AFRICAN CROWNED CRANE</td>\n",
              "      <td>train</td>\n",
              "    </tr>\n",
              "    <tr>\n",
              "      <th>3</th>\n",
              "      <td>train\\AFRICAN CROWNED CRANE\\004.jpg</td>\n",
              "      <td>AFRICAN CROWNED CRANE</td>\n",
              "      <td>train</td>\n",
              "    </tr>\n",
              "    <tr>\n",
              "      <th>4</th>\n",
              "      <td>train\\AFRICAN CROWNED CRANE\\005.jpg</td>\n",
              "      <td>AFRICAN CROWNED CRANE</td>\n",
              "      <td>train</td>\n",
              "    </tr>\n",
              "  </tbody>\n",
              "</table>\n",
              "</div>"
            ],
            "text/plain": [
              "                             filepaths                 labels data set\n",
              "0  train\\AFRICAN CROWNED CRANE\\001.jpg  AFRICAN CROWNED CRANE    train\n",
              "1  train\\AFRICAN CROWNED CRANE\\002.jpg  AFRICAN CROWNED CRANE    train\n",
              "2  train\\AFRICAN CROWNED CRANE\\003.jpg  AFRICAN CROWNED CRANE    train\n",
              "3  train\\AFRICAN CROWNED CRANE\\004.jpg  AFRICAN CROWNED CRANE    train\n",
              "4  train\\AFRICAN CROWNED CRANE\\005.jpg  AFRICAN CROWNED CRANE    train"
            ]
          },
          "metadata": {},
          "execution_count": 14
        }
      ]
    },
    {
      "cell_type": "code",
      "metadata": {
        "colab": {
          "base_uri": "https://localhost:8080/"
        },
        "id": "TAFGw2djV_ih",
        "outputId": "5935a8bd-f36f-4155-9b28-a87d6612c20c"
      },
      "source": [
        "df.info()"
      ],
      "execution_count": null,
      "outputs": [
        {
          "output_type": "stream",
          "name": "stdout",
          "text": [
            "<class 'pandas.core.frame.DataFrame'>\n",
            "RangeIndex: 46622 entries, 0 to 46621\n",
            "Data columns (total 3 columns):\n",
            " #   Column     Non-Null Count  Dtype \n",
            "---  ------     --------------  ----- \n",
            " 0   filepaths  46622 non-null  object\n",
            " 1   labels     46622 non-null  object\n",
            " 2   data set   46622 non-null  object\n",
            "dtypes: object(3)\n",
            "memory usage: 1.1+ MB\n"
          ]
        }
      ]
    },
    {
      "cell_type": "code",
      "metadata": {
        "id": "mqiahF8OMQsz"
      },
      "source": [
        "#df.to_csv(r\"sample_data/Bird_Species_cleaned.csv\")"
      ],
      "execution_count": null,
      "outputs": []
    },
    {
      "cell_type": "code",
      "metadata": {
        "colab": {
          "base_uri": "https://localhost:8080/",
          "height": 203
        },
        "id": "6fZUOYMlNAFu",
        "outputId": "3549abbc-3617-428d-bd32-850a5e6f1541"
      },
      "source": [
        "df_classes = pd.read_csv (\"class_dict.csv\")\n",
        "df_classes.head()"
      ],
      "execution_count": null,
      "outputs": [
        {
          "output_type": "execute_result",
          "data": {
            "text/html": [
              "<div>\n",
              "<style scoped>\n",
              "    .dataframe tbody tr th:only-of-type {\n",
              "        vertical-align: middle;\n",
              "    }\n",
              "\n",
              "    .dataframe tbody tr th {\n",
              "        vertical-align: top;\n",
              "    }\n",
              "\n",
              "    .dataframe thead th {\n",
              "        text-align: right;\n",
              "    }\n",
              "</style>\n",
              "<table border=\"1\" class=\"dataframe\">\n",
              "  <thead>\n",
              "    <tr style=\"text-align: right;\">\n",
              "      <th></th>\n",
              "      <th>class_index</th>\n",
              "      <th>class</th>\n",
              "      <th>height</th>\n",
              "      <th>width</th>\n",
              "      <th>scale by</th>\n",
              "    </tr>\n",
              "  </thead>\n",
              "  <tbody>\n",
              "    <tr>\n",
              "      <th>0</th>\n",
              "      <td>0</td>\n",
              "      <td>AFRICAN CROWNED CRANE</td>\n",
              "      <td>224</td>\n",
              "      <td>224</td>\n",
              "      <td>1</td>\n",
              "    </tr>\n",
              "    <tr>\n",
              "      <th>1</th>\n",
              "      <td>1</td>\n",
              "      <td>AFRICAN FIREFINCH</td>\n",
              "      <td>224</td>\n",
              "      <td>224</td>\n",
              "      <td>1</td>\n",
              "    </tr>\n",
              "    <tr>\n",
              "      <th>2</th>\n",
              "      <td>2</td>\n",
              "      <td>ALBATROSS</td>\n",
              "      <td>224</td>\n",
              "      <td>224</td>\n",
              "      <td>1</td>\n",
              "    </tr>\n",
              "    <tr>\n",
              "      <th>3</th>\n",
              "      <td>3</td>\n",
              "      <td>ALEXANDRINE PARAKEET</td>\n",
              "      <td>224</td>\n",
              "      <td>224</td>\n",
              "      <td>1</td>\n",
              "    </tr>\n",
              "    <tr>\n",
              "      <th>4</th>\n",
              "      <td>4</td>\n",
              "      <td>AMERICAN AVOCET</td>\n",
              "      <td>224</td>\n",
              "      <td>224</td>\n",
              "      <td>1</td>\n",
              "    </tr>\n",
              "  </tbody>\n",
              "</table>\n",
              "</div>"
            ],
            "text/plain": [
              "   class_index                  class  height  width  scale by\n",
              "0            0  AFRICAN CROWNED CRANE     224    224         1\n",
              "1            1      AFRICAN FIREFINCH     224    224         1\n",
              "2            2              ALBATROSS     224    224         1\n",
              "3            3   ALEXANDRINE PARAKEET     224    224         1\n",
              "4            4        AMERICAN AVOCET     224    224         1"
            ]
          },
          "metadata": {},
          "execution_count": 10
        }
      ]
    },
    {
      "cell_type": "code",
      "metadata": {
        "colab": {
          "base_uri": "https://localhost:8080/"
        },
        "id": "Euy0wpo6Qy6k",
        "outputId": "e72df041-762e-4bdc-88a1-4e917682ef0e"
      },
      "source": [
        "# view the number of classes in data set df_classes\n",
        "print (f\"There are {df_classes.shape[0]} classes in the df_classes Data Set\")"
      ],
      "execution_count": null,
      "outputs": [
        {
          "output_type": "stream",
          "name": "stdout",
          "text": [
            "There are 300 classes in the df_classes Data Set\n"
          ]
        }
      ]
    },
    {
      "cell_type": "code",
      "metadata": {
        "id": "zE7qqUh_XV6f"
      },
      "source": [
        "#Add class index in df Data Set.\n",
        "df[\"class_index\"] = (\n",
        "                    [df_classes[df_classes[\"class\"] == \n",
        "                                                df[\"labels\"][i]][\"class_index\"].to_numpy()[0] \n",
        "                                                 for i in range(df.shape[0])]\n",
        "                    )"
      ],
      "execution_count": null,
      "outputs": []
    },
    {
      "cell_type": "code",
      "metadata": {
        "colab": {
          "base_uri": "https://localhost:8080/",
          "height": 203
        },
        "id": "lv9G65IcbV13",
        "outputId": "62f68d6a-b0bd-4c29-dcdf-0a075bcd2ae2"
      },
      "source": [
        "df_classes.head()"
      ],
      "execution_count": null,
      "outputs": [
        {
          "output_type": "execute_result",
          "data": {
            "text/html": [
              "<div>\n",
              "<style scoped>\n",
              "    .dataframe tbody tr th:only-of-type {\n",
              "        vertical-align: middle;\n",
              "    }\n",
              "\n",
              "    .dataframe tbody tr th {\n",
              "        vertical-align: top;\n",
              "    }\n",
              "\n",
              "    .dataframe thead th {\n",
              "        text-align: right;\n",
              "    }\n",
              "</style>\n",
              "<table border=\"1\" class=\"dataframe\">\n",
              "  <thead>\n",
              "    <tr style=\"text-align: right;\">\n",
              "      <th></th>\n",
              "      <th>class_index</th>\n",
              "      <th>class</th>\n",
              "      <th>height</th>\n",
              "      <th>width</th>\n",
              "      <th>scale by</th>\n",
              "    </tr>\n",
              "  </thead>\n",
              "  <tbody>\n",
              "    <tr>\n",
              "      <th>0</th>\n",
              "      <td>0</td>\n",
              "      <td>AFRICAN CROWNED CRANE</td>\n",
              "      <td>224</td>\n",
              "      <td>224</td>\n",
              "      <td>1</td>\n",
              "    </tr>\n",
              "    <tr>\n",
              "      <th>1</th>\n",
              "      <td>1</td>\n",
              "      <td>AFRICAN FIREFINCH</td>\n",
              "      <td>224</td>\n",
              "      <td>224</td>\n",
              "      <td>1</td>\n",
              "    </tr>\n",
              "    <tr>\n",
              "      <th>2</th>\n",
              "      <td>2</td>\n",
              "      <td>ALBATROSS</td>\n",
              "      <td>224</td>\n",
              "      <td>224</td>\n",
              "      <td>1</td>\n",
              "    </tr>\n",
              "    <tr>\n",
              "      <th>3</th>\n",
              "      <td>3</td>\n",
              "      <td>ALEXANDRINE PARAKEET</td>\n",
              "      <td>224</td>\n",
              "      <td>224</td>\n",
              "      <td>1</td>\n",
              "    </tr>\n",
              "    <tr>\n",
              "      <th>4</th>\n",
              "      <td>4</td>\n",
              "      <td>AMERICAN AVOCET</td>\n",
              "      <td>224</td>\n",
              "      <td>224</td>\n",
              "      <td>1</td>\n",
              "    </tr>\n",
              "  </tbody>\n",
              "</table>\n",
              "</div>"
            ],
            "text/plain": [
              "   class_index                  class  height  width  scale by\n",
              "0            0  AFRICAN CROWNED CRANE     224    224         1\n",
              "1            1      AFRICAN FIREFINCH     224    224         1\n",
              "2            2              ALBATROSS     224    224         1\n",
              "3            3   ALEXANDRINE PARAKEET     224    224         1\n",
              "4            4        AMERICAN AVOCET     224    224         1"
            ]
          },
          "metadata": {},
          "execution_count": 21
        }
      ]
    },
    {
      "cell_type": "code",
      "metadata": {
        "colab": {
          "base_uri": "https://localhost:8080/",
          "height": 203
        },
        "id": "zKEw7eUXb92A",
        "outputId": "925eaa1e-378d-4207-c0d0-943d7970b34f"
      },
      "source": [
        "df.head()"
      ],
      "execution_count": null,
      "outputs": [
        {
          "output_type": "execute_result",
          "data": {
            "text/html": [
              "<div>\n",
              "<style scoped>\n",
              "    .dataframe tbody tr th:only-of-type {\n",
              "        vertical-align: middle;\n",
              "    }\n",
              "\n",
              "    .dataframe tbody tr th {\n",
              "        vertical-align: top;\n",
              "    }\n",
              "\n",
              "    .dataframe thead th {\n",
              "        text-align: right;\n",
              "    }\n",
              "</style>\n",
              "<table border=\"1\" class=\"dataframe\">\n",
              "  <thead>\n",
              "    <tr style=\"text-align: right;\">\n",
              "      <th></th>\n",
              "      <th>filepaths</th>\n",
              "      <th>labels</th>\n",
              "      <th>data set</th>\n",
              "      <th>class_index</th>\n",
              "    </tr>\n",
              "  </thead>\n",
              "  <tbody>\n",
              "    <tr>\n",
              "      <th>0</th>\n",
              "      <td>train\\AFRICAN CROWNED CRANE\\001.jpg</td>\n",
              "      <td>AFRICAN CROWNED CRANE</td>\n",
              "      <td>train</td>\n",
              "      <td>0</td>\n",
              "    </tr>\n",
              "    <tr>\n",
              "      <th>1</th>\n",
              "      <td>train\\AFRICAN CROWNED CRANE\\002.jpg</td>\n",
              "      <td>AFRICAN CROWNED CRANE</td>\n",
              "      <td>train</td>\n",
              "      <td>0</td>\n",
              "    </tr>\n",
              "    <tr>\n",
              "      <th>2</th>\n",
              "      <td>train\\AFRICAN CROWNED CRANE\\003.jpg</td>\n",
              "      <td>AFRICAN CROWNED CRANE</td>\n",
              "      <td>train</td>\n",
              "      <td>0</td>\n",
              "    </tr>\n",
              "    <tr>\n",
              "      <th>3</th>\n",
              "      <td>train\\AFRICAN CROWNED CRANE\\004.jpg</td>\n",
              "      <td>AFRICAN CROWNED CRANE</td>\n",
              "      <td>train</td>\n",
              "      <td>0</td>\n",
              "    </tr>\n",
              "    <tr>\n",
              "      <th>4</th>\n",
              "      <td>train\\AFRICAN CROWNED CRANE\\005.jpg</td>\n",
              "      <td>AFRICAN CROWNED CRANE</td>\n",
              "      <td>train</td>\n",
              "      <td>0</td>\n",
              "    </tr>\n",
              "  </tbody>\n",
              "</table>\n",
              "</div>"
            ],
            "text/plain": [
              "                             filepaths  ... class_index\n",
              "0  train\\AFRICAN CROWNED CRANE\\001.jpg  ...           0\n",
              "1  train\\AFRICAN CROWNED CRANE\\002.jpg  ...           0\n",
              "2  train\\AFRICAN CROWNED CRANE\\003.jpg  ...           0\n",
              "3  train\\AFRICAN CROWNED CRANE\\004.jpg  ...           0\n",
              "4  train\\AFRICAN CROWNED CRANE\\005.jpg  ...           0\n",
              "\n",
              "[5 rows x 4 columns]"
            ]
          },
          "metadata": {},
          "execution_count": 24
        }
      ]
    },
    {
      "cell_type": "code",
      "metadata": {
        "colab": {
          "base_uri": "https://localhost:8080/"
        },
        "id": "7i_nAwyFcZVp",
        "outputId": "210becaa-7dce-40bd-ee7e-4cd59ec41db4"
      },
      "source": [
        "#check how many train, test and validation samples are in the Data Set df.\n",
        "\n",
        "df[\"data set\"].value_counts()"
      ],
      "execution_count": null,
      "outputs": [
        {
          "output_type": "execute_result",
          "data": {
            "text/plain": [
              "train    43622\n",
              "test      1500\n",
              "valid     1500\n",
              "Name: data set, dtype: int64"
            ]
          },
          "metadata": {},
          "execution_count": 25
        }
      ]
    },
    {
      "cell_type": "code",
      "metadata": {
        "id": "QEAJh8Zhd1V0"
      },
      "source": [
        "#Split df to train, test and validation Data Frame\n",
        "df_train = df[df[\"data set\"]== \"train\"]\n",
        "df_val = df[df[\"data set\"]== \"valid\"]\n",
        "df_test = df[df[\"data set\"]== \"test\"]"
      ],
      "execution_count": null,
      "outputs": []
    },
    {
      "cell_type": "code",
      "metadata": {
        "id": "P7uesiePg2B7"
      },
      "source": [
        "#Chech if shapes match with the result oof values_counts\n",
        "\n",
        "print (f\"There are {df_train.shape[0]} images in the training set.\")\n",
        "print (f\"There are {df_val.shape[0]} images in the validation sat.\")\n",
        "print (f\"There are {df_test.shape[0]} images in the test set.\")"
      ],
      "execution_count": null,
      "outputs": []
    },
    {
      "cell_type": "code",
      "source": [
        "#je sauvegarde quelque chose pour voir si ça fonctionne."
      ],
      "metadata": {
        "id": "bUh-OFRulIZ5"
      },
      "execution_count": null,
      "outputs": []
    }
  ]
}