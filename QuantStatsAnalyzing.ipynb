{
  "nbformat": 4,
  "nbformat_minor": 0,
  "metadata": {
    "colab": {
      "provenance": [],
      "authorship_tag": "ABX9TyMPn5O+/+VWqqLqHiMxQXJm",
      "include_colab_link": true
    },
    "kernelspec": {
      "name": "python3",
      "display_name": "Python 3"
    },
    "language_info": {
      "name": "python"
    }
  },
  "cells": [
    {
      "cell_type": "markdown",
      "metadata": {
        "id": "view-in-github",
        "colab_type": "text"
      },
      "source": [
        "<a href=\"https://colab.research.google.com/github/elvissounna/Colab_Training-/blob/main/QuantStatsAnalyzing.ipynb\" target=\"_parent\"><img src=\"https://colab.research.google.com/assets/colab-badge.svg\" alt=\"Open In Colab\"/></a>"
      ]
    },
    {
      "cell_type": "code",
      "execution_count": 1,
      "metadata": {
        "id": "3woTOzk_8q1d"
      },
      "outputs": [],
      "source": [
        "import pandas as pd\n",
        "import numpy as np\n",
        "import yfinance as yf\n",
        "from datetime import datetime, timedelta\n",
        "\n",
        "# Set random seed for reproducibility\n",
        "np.random.seed(42)\n",
        "\n",
        "# Define the time period\n",
        "end_date = datetime(2023, 12, 31)\n",
        "start_date = end_date - timedelta(days=5*365)  # Approximately 5 years of data"
      ]
    },
    {
      "cell_type": "code",
      "source": [
        "\n",
        "\n",
        "# Create a function to generate a dataset\n",
        "def generate_portfolio_dataset():\n",
        "    # Download actual market data for realism\n",
        "    tickers = ['AAPL', 'MSFT', 'AMZN', 'GOOGL', 'JPM', 'JNJ', 'PG', 'XOM', 'SPY']\n",
        "\n",
        "    print(\"Downloading market data...\")\n",
        "    # Download each ticker separately to ensure we get the data correctly\n",
        "    market_data = pd.DataFrame()\n",
        "\n",
        "    for ticker in tickers:\n",
        "        try:\n",
        "            # Get data for this ticker\n",
        "            data = yf.download(ticker, start=start_date, end=end_date)\n",
        "            # Extract just the Adjusted Close and add it to our dataframe\n",
        "            if 'Adj Close' in data.columns:\n",
        "                market_data[ticker] = data['Adj Close']\n",
        "            else:\n",
        "                # Fallback to Close if Adj Close is not available\n",
        "                print(f\"Using Close price for {ticker} as Adj Close is not available\")\n",
        "                market_data[ticker] = data['Close']\n",
        "        except Exception as e:\n",
        "            print(f\"Error downloading {ticker}: {e}\")\n",
        "\n",
        "    # Check if we have data\n",
        "    if market_data.empty:\n",
        "        raise ValueError(\"Failed to download any market data. Please check your internet connection.\")\n",
        "\n",
        "    print(f\"Successfully downloaded data for {len(market_data.columns)} tickers\")\n",
        "\n",
        "    # Calculate daily returns\n",
        "    returns = market_data.pct_change().dropna()\n",
        "\n",
        "    # Create a hypothetical portfolio with custom weights\n",
        "    weights = {\n",
        "        'AAPL': 0.15,\n",
        "        'MSFT': 0.15,\n",
        "        'AMZN': 0.10,\n",
        "        'GOOGL': 0.10,\n",
        "        'JPM': 0.12,\n",
        "        'JNJ': 0.12,\n",
        "        'PG': 0.10,\n",
        "        'XOM': 0.08,\n",
        "        'SPY': 0.08  # Some exposure to the S&P 500 ETF\n",
        "    }\n",
        "\n",
        "    # Ensure we only use weights for tickers that we have data for\n",
        "    available_tickers = set(market_data.columns).intersection(set(weights.keys()))\n",
        "    if len(available_tickers) < len(weights):\n",
        "        print(f\"Warning: Only {len(available_tickers)} out of {len(weights)} tickers have data\")\n",
        "\n",
        "    # Recalculate weights to use only available tickers\n",
        "    filtered_weights = {ticker: weights[ticker] for ticker in available_tickers}\n",
        "    # Normalize weights to sum to 1\n",
        "    weight_sum = sum(filtered_weights.values())\n",
        "    filtered_weights = {ticker: weight/weight_sum for ticker, weight in filtered_weights.items()}\n",
        "\n",
        "    # Calculate portfolio returns\n",
        "    portfolio_returns = pd.Series(0, index=returns.index)\n",
        "    for ticker, weight in filtered_weights.items():\n",
        "        portfolio_returns += returns[ticker] * weight\n",
        "\n",
        "    # Create a synthetic benchmark based on SPY if available, otherwise use portfolio average\n",
        "    if 'SPY' in returns.columns:\n",
        "        benchmark_returns = returns['SPY'] * (1 + np.random.normal(0, 0.0005, len(returns)))\n",
        "    else:\n",
        "        print(\"SPY data not available, using portfolio average as benchmark\")\n",
        "        benchmark_returns = portfolio_returns * (1 + np.random.normal(0, 0.001, len(returns)))\n",
        "\n",
        "    # Create a dataset with asset prices, portfolio value, and benchmark\n",
        "    # Start with initial investments of $10,000 each\n",
        "    portfolio_value = (1 + portfolio_returns).cumprod() * 10000\n",
        "    benchmark_value = (1 + benchmark_returns).cumprod() * 10000\n",
        "\n",
        "    # Combine into a final dataframe\n",
        "    dataset = pd.DataFrame({\n",
        "        'portfolio_returns': portfolio_returns,\n",
        "        'portfolio_value': portfolio_value,\n",
        "        'benchmark_returns': benchmark_returns,\n",
        "        'benchmark_value': benchmark_value\n",
        "    })\n",
        "\n",
        "    # Add individual assets to the dataset\n",
        "    for ticker in filtered_weights.keys():\n",
        "        if ticker != 'SPY' or 'SPY' not in benchmark_returns.name:  # Skip SPY if it's already the benchmark\n",
        "            asset_value = (1 + returns[ticker]).cumprod() * 10000\n",
        "            dataset[f'{ticker}_value'] = asset_value\n",
        "            dataset[f'{ticker}_returns'] = returns[ticker]\n",
        "\n",
        "    # Save the dataset\n",
        "    dataset.to_csv('portfolio_performance_dataset.csv')\n",
        "\n",
        "    # Create a sample of the data for quick viewing\n",
        "    asset_allocation = pd.Series(filtered_weights)\n",
        "\n",
        "    return dataset, asset_allocation, market_data\n",
        "\n",
        "# Generate the dataset\n",
        "try:\n",
        "    dataset, asset_allocation, market_data = generate_portfolio_dataset()\n",
        "\n",
        "    # Display sample information\n",
        "    print(\"\\nDataset generation complete.\")\n",
        "    print(f\"Time period: {start_date.date()} to {end_date.date()}\")\n",
        "    print(f\"Number of trading days: {len(dataset)}\")\n",
        "    print(\"\\nAsset allocation:\")\n",
        "    print(asset_allocation)\n",
        "    print(\"\\nSample of the generated dataset:\")\n",
        "    print(dataset.head())\n",
        "\n",
        "    # Also save the asset prices\n",
        "    market_data.to_csv('asset_prices_dataset.csv')\n",
        "\n",
        "    print(\"\\nDatasets saved as 'portfolio_performance_dataset.csv' and 'asset_prices_dataset.csv'\")\n",
        "except Exception as e:\n",
        "    print(f\"An error occurred: {e}\")\n",
        "    print(\"Please try again with a different approach or check if yfinance is working properly.\")"
      ],
      "metadata": {
        "colab": {
          "base_uri": "https://localhost:8080/"
        },
        "id": "algck5bs9bWE",
        "outputId": "3e4603a1-74b1-4f5b-f3e0-4f351fa874d2"
      },
      "execution_count": 2,
      "outputs": [
        {
          "output_type": "stream",
          "name": "stdout",
          "text": [
            "Downloading market data...\n",
            "YF.download() has changed argument auto_adjust default to True\n"
          ]
        },
        {
          "output_type": "stream",
          "name": "stderr",
          "text": [
            "[*********************100%***********************]  1 of 1 completed\n",
            "[*********************100%***********************]  1 of 1 completed\n"
          ]
        },
        {
          "output_type": "stream",
          "name": "stdout",
          "text": [
            "Using Close price for AAPL as Adj Close is not available\n",
            "Using Close price for MSFT as Adj Close is not available\n"
          ]
        },
        {
          "output_type": "stream",
          "name": "stderr",
          "text": [
            "\r[*********************100%***********************]  1 of 1 completed\n"
          ]
        },
        {
          "output_type": "stream",
          "name": "stdout",
          "text": [
            "Using Close price for AMZN as Adj Close is not available\n"
          ]
        },
        {
          "output_type": "stream",
          "name": "stderr",
          "text": [
            "\r[*********************100%***********************]  1 of 1 completed\n"
          ]
        },
        {
          "output_type": "stream",
          "name": "stdout",
          "text": [
            "Using Close price for GOOGL as Adj Close is not available\n"
          ]
        },
        {
          "output_type": "stream",
          "name": "stderr",
          "text": [
            "\r[*********************100%***********************]  1 of 1 completed\n"
          ]
        },
        {
          "output_type": "stream",
          "name": "stdout",
          "text": [
            "Using Close price for JPM as Adj Close is not available\n"
          ]
        },
        {
          "output_type": "stream",
          "name": "stderr",
          "text": [
            "\r[*********************100%***********************]  1 of 1 completed\n"
          ]
        },
        {
          "output_type": "stream",
          "name": "stdout",
          "text": [
            "Using Close price for JNJ as Adj Close is not available\n"
          ]
        },
        {
          "output_type": "stream",
          "name": "stderr",
          "text": [
            "\r[*********************100%***********************]  1 of 1 completed\n"
          ]
        },
        {
          "output_type": "stream",
          "name": "stdout",
          "text": [
            "Using Close price for PG as Adj Close is not available\n"
          ]
        },
        {
          "output_type": "stream",
          "name": "stderr",
          "text": [
            "\r[*********************100%***********************]  1 of 1 completed\n"
          ]
        },
        {
          "output_type": "stream",
          "name": "stdout",
          "text": [
            "Using Close price for XOM as Adj Close is not available\n"
          ]
        },
        {
          "output_type": "stream",
          "name": "stderr",
          "text": [
            "\r[*********************100%***********************]  1 of 1 completed"
          ]
        },
        {
          "output_type": "stream",
          "name": "stdout",
          "text": [
            "Using Close price for SPY as Adj Close is not available\n",
            "Successfully downloaded data for 9 tickers\n",
            "\n",
            "Dataset generation complete.\n",
            "Time period: 2019-01-01 to 2023-12-31\n",
            "Number of trading days: 1257\n",
            "\n",
            "Asset allocation:\n",
            "SPY      0.08\n",
            "GOOGL    0.10\n",
            "PG       0.10\n",
            "AMZN     0.10\n",
            "XOM      0.08\n",
            "MSFT     0.15\n",
            "JPM      0.12\n",
            "JNJ      0.12\n",
            "AAPL     0.15\n",
            "dtype: float64\n",
            "\n",
            "Sample of the generated dataset:\n",
            "            portfolio_returns  portfolio_value  benchmark_returns  \\\n",
            "Date                                                                \n",
            "2019-01-03          -0.033204      9667.962882          -0.023869   \n",
            "2019-01-04           0.037624     10031.707215           0.033493   \n",
            "2019-01-07           0.003054     10062.340645           0.007887   \n",
            "2019-01-08           0.010750     10170.510015           0.009402   \n",
            "2019-01-09           0.002530     10196.237786           0.004673   \n",
            "\n",
            "            benchmark_value   GOOGL_value  GOOGL_returns      PG_value  \\\n",
            "Date                                                                     \n",
            "2019-01-03      9761.314723   9723.042832      -0.027696   9929.889809   \n",
            "2019-01-04     10088.254418  10221.772646       0.051294  10132.561541   \n",
            "2019-01-07     10167.822638  10201.387821      -0.001994  10092.023478   \n",
            "2019-01-08     10263.422859  10290.988706       0.008783  10129.274988   \n",
            "2019-01-09     10311.386099  10255.716380      -0.003427   9963.846941   \n",
            "\n",
            "            PG_returns    AMZN_value  AMZN_returns     XOM_value  XOM_returns  \\\n",
            "Date                                                                            \n",
            "2019-01-03   -0.007011   9747.585022     -0.025241   9846.463943    -0.015354   \n",
            "2019-01-04    0.020410  10235.588106      0.050064  10209.499845     0.036870   \n",
            "2019-01-07   -0.004001  10587.215503      0.034353  10262.591539     0.005200   \n",
            "2019-01-08    0.003691  10763.094138      0.016612  10337.209185     0.007271   \n",
            "2019-01-09   -0.016332  10781.545899      0.001714  10391.735451     0.005275   \n",
            "\n",
            "              MSFT_value  MSFT_returns     JPM_value  JPM_returns  \\\n",
            "Date                                                                \n",
            "2019-01-03   9632.118462     -0.036788   9857.881790    -0.014212   \n",
            "2019-01-04  10080.099965      0.046509  10221.296569     0.036865   \n",
            "2019-01-07  10092.957347      0.001276  10228.401835     0.000695   \n",
            "2019-01-08  10166.137747      0.007251  10209.114929    -0.001886   \n",
            "2019-01-09  10311.511183      0.014300  10191.855996    -0.001691   \n",
            "\n",
            "               JNJ_value  JNJ_returns   AAPL_value  AAPL_returns  \n",
            "Date                                                              \n",
            "2019-01-03   9841.094142    -0.015891  9003.928004     -0.099607  \n",
            "2019-01-04  10006.263000     0.016784  9388.300410      0.042689  \n",
            "2019-01-07   9942.073646    -0.006415  9367.400544     -0.002226  \n",
            "2019-01-08  10172.994764     0.023227  9545.971502      0.019063  \n",
            "2019-01-09  10092.362901    -0.007926  9708.079398      0.016982  \n",
            "\n",
            "Datasets saved as 'portfolio_performance_dataset.csv' and 'asset_prices_dataset.csv'\n"
          ]
        },
        {
          "output_type": "stream",
          "name": "stderr",
          "text": [
            "\n"
          ]
        }
      ]
    }
  ]
}